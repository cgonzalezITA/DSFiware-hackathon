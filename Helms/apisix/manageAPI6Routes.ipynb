{
 "cells": [
  {
   "cell_type": "code",
   "execution_count": 1,
   "metadata": {},
   "outputs": [],
   "source": [
    "from IPython.display import Markdown, display\n",
    "import json\n",
    "import requests\n",
    "\n",
    "def print_md(text):\n",
    "    display(Markdown(text))\n",
    "def color_md(text, color=\"blue\"):\n",
    "    return f\"<span style='color:{color}'>{text}</span>\""
   ]
  },
  {
   "cell_type": "code",
   "execution_count": 2,
   "metadata": {},
   "outputs": [
    {
     "name": "stdout",
     "output_type": "stream",
     "text": [
      "ADMINTOKEN=DecWcwsv6o1OIQafYp23NNoAnpqL62xs\n",
      "APISIXCONTROL_URL=https://10.104.23.105:9180\n"
     ]
    }
   ],
   "source": [
    "\n",
    "# Retrieve k8s required infos\n",
    "import subprocess\n",
    "cmd=\"bash -i -c 'kSecret-show -n apisix -f admin-token plane-api -v'\"\n",
    "result= subprocess.run(cmd, shell=True, capture_output=True, text=True)\n",
    "ADMINTOKEN= result.stdout.splitlines()[-1]\n",
    "print(f\"ADMINTOKEN={ADMINTOKEN}\")\n",
    "\n",
    "# cmd=\"bash -i -c 'kGet -a svc -n apisix control- -o yaml -v  | yq eval '.spec.clusterIP' -\"\n",
    "cmd=\"bash -i -c 'kGet -a svc -n apisix control- -o yaml -v | yq eval \\'.spec.clusterIP\\' -'\"\n",
    "result= subprocess.run(cmd, shell=True, capture_output=True, text=True)\n",
    "output_lines = result.stdout.splitlines()\n",
    "# print(len(output_lines))\n",
    "# for o in output_lines:\n",
    "#     print(o)\n",
    "IP_APISIXCONTROL= result.stdout.splitlines()[-1]\n",
    "PORT_APISIXCONTROL=9180\n",
    "URL_APISIXCONTROL=f\"https://{IP_APISIXCONTROL}:{PORT_APISIXCONTROL}\"\n",
    "print(f\"APISIXCONTROL_URL={URL_APISIXCONTROL}\")\n",
    "ENDPOINT_ADMINROUTES=\"apisix/admin/routes\""
   ]
  },
  {
   "cell_type": "code",
   "execution_count": 3,
   "metadata": {},
   "outputs": [],
   "source": [
    "def getRoutes(verbose: True):\n",
    "    if verbose:\n",
    "        print_md(\"## GET routes\")\n",
    "    url=f\"{URL_APISIXCONTROL}/{ENDPOINT_ADMINROUTES}\"\n",
    "    # data={\"grant_type\": \"urn:ietf:params:oauth:grant-type:pre-authorized_code\",\n",
    "    #       \"pre-authorized_code\": PRE_AUTHORIZED_CODE,\n",
    "    #       \"code\": PRE_AUTHORIZED_CODE\n",
    "    # }\n",
    "    # headers={'Content-Type': 'application/x-www-form-urlencoded'}\n",
    "    headers={'X-API-KEY': ADMINTOKEN}\n",
    "    jsonResponse=\"\"\n",
    "    try:\n",
    "        response = requests.get(url, headers=headers, verify=False)# , data=data, headers=headers)\n",
    "        jsonResponse=response.json()\n",
    "        if verbose:\n",
    "            print(json.dumps(jsonResponse, indent=4))  # Print the JSON response if it\"s in JSON format\n",
    "        return jsonResponse\n",
    "        # response.raise_for_status()  # Raise an exception for bad status codes (4xx or 5xx)\n",
    "        # CREDENTIAL_ACCESS_TOKEN=jsonResponse[\"access_token\"]\n",
    "        # print_md (f\"{color_md('**CREDENTIAL_ACCESS_TOKEN**', 'green')}=*{CREDENTIAL_ACCESS_TOKEN}*\")\n",
    "    except requests.exceptions.RequestException as e:\n",
    "        print(f\"Error during request: {e}\\n- ErrorResponse:{jsonResponse}\\nURL: {url}\")# \\n- Data: {json.dumps(data, indent=4)}\\n- Headers: {json.dumps(headers, indent=4)}\")\n",
    "\n",
    "def createOrUpdateRoute(json_route):\n",
    "    uri=json_route[\"uri\"]\n",
    "    host=json_route[\"host\"] if \"host\" in json_route else None\n",
    "    x=getRoutes(verbose=False)\n",
    "    # print(f\"creating route {host}:{uri}\")\n",
    "    id=\"\"\n",
    "    for route in x[\"list\"]:\n",
    "        uri_=route[\"value\"][\"uri\"]\n",
    "        host_=route[\"value\"][\"host\"] if \"host\" in route[\"value\"] else None\n",
    "        # print(f\"analyzing route {host_}:{uri_}\")\n",
    "        if uri == uri_ and host == host_:\n",
    "            id=f'/{route[\"value\"][\"id\"]}'\n",
    "            break\n",
    "    if len(id) == 0:\n",
    "        verb=\"POST\"\n",
    "    else:\n",
    "        verb=\"PUT\"\n",
    "\n",
    "    print_md(f\"## {verb} route {id}\")\n",
    "    url=f\"{URL_APISIXCONTROL}/{ENDPOINT_ADMINROUTES}{id}\"\n",
    "    data=json.dumps(json_route)\n",
    "    # headers={'Content-Type': 'application/x-www-form-urlencoded'}\n",
    "    headers={'X-API-KEY': ADMINTOKEN, 'Content-Type': 'application/json'}\n",
    "    jsonResponse=\"\"\n",
    "    try:\n",
    "        if len(id) == 0:\n",
    "            response = requests.post(url, headers=headers, data=data, verify=False)# , data=data, headers=headers)\n",
    "        else:\n",
    "            response = requests.put(url, headers=headers, data=data, verify=False)# , data=data, headers=headers)\n",
    "        jsonResponse=response.json()\n",
    "        print(json.dumps(jsonResponse, indent=4))  # Print the JSON response if it\"s in JSON format\n",
    "        # response.raise_for_status()  # Raise an exception for bad status codes (4xx or 5xx)\n",
    "        # CREDENTIAL_ACCESS_TOKEN=jsonResponse[\"access_token\"]\n",
    "        # print_md (f\"{color_md('**CREDENTIAL_ACCESS_TOKEN**', 'green')}=*{CREDENTIAL_ACCESS_TOKEN}*\")\n",
    "    except requests.exceptions.RequestException as e:\n",
    "        print(f\"Error during request: {e}\\n- ErrorResponse:{jsonResponse}\\nURL: {url}\\n- Data: {json.dumps(json_route, indent=4)}\\n- Headers: {json.dumps(headers, indent=4)}\")\n",
    "\n",
    "def deleteRoute(route_id):\n",
    "    if not route_id is None:\n",
    "        print_md(f\"## DELETE route {route_id}\")\n",
    "        url=f\"{URL_APISIXCONTROL}/{ENDPOINT_ADMINROUTES}/{route_id}\"\n",
    "        # data={\"grant_type\": \"urn:ietf:params:oauth:grant-type:pre-authorized_code\",\n",
    "        #       \"pre-authorized_code\": PRE_AUTHORIZED_CODE,\n",
    "        #       \"code\": PRE_AUTHORIZED_CODE\n",
    "        # }\n",
    "        # headers={'Content-Type': 'application/x-www-form-urlencoded'}\n",
    "        headers={'X-API-KEY': ADMINTOKEN}\n",
    "        jsonResponse=\"\"\n",
    "        try:\n",
    "            response = requests.delete(url, headers=headers, verify=False)# , data=data, headers=headers)\n",
    "            jsonResponse=response.json()\n",
    "            print(json.dumps(jsonResponse, indent=4))  # Print the JSON response if it\"s in JSON format\n",
    "            # response.raise_for_status()  # Raise an exception for bad status codes (4xx or 5xx)\n",
    "            # CREDENTIAL_ACCESS_TOKEN=jsonResponse[\"access_token\"]\n",
    "            # print_md (f\"{color_md('**CREDENTIAL_ACCESS_TOKEN**', 'green')}=*{CREDENTIAL_ACCESS_TOKEN}*\")\n",
    "        except requests.exceptions.RequestException as e:\n",
    "            print(f\"Error during request: {e}\\n- ErrorResponse:{jsonResponse}\\nURL: {url}\")# \\n- Data: {json.dumps(data, indent=4)}\\n- Headers: {json.dumps(headers, indent=4)}\")\n"
   ]
  },
  {
   "cell_type": "code",
   "execution_count": 4,
   "metadata": {},
   "outputs": [],
   "source": [
    "# https://fiwaredsc-consumer.ita.es/hello\n",
    "ROUTE_DEMO_JSON={\n",
    "  \"uri\": \"/hello\",\n",
    "  \"host\": \"fiwaredsc-consumer.local\",\n",
    "  \"methods\": [\"GET\"],\n",
    "  \"upstream\": {\n",
    "    \"type\": \"roundrobin\",\n",
    "    \"nodes\": {\n",
    "      \"echo-svc:8080\": 1\n",
    "    }\n",
    "  },\n",
    "  \"plugins\": {\n",
    "      \"proxy-rewrite\": {\n",
    "          \"uri\": \"/\"\n",
    "      }\n",
    "  }\n",
    "}"
   ]
  },
  {
   "cell_type": "code",
   "execution_count": null,
   "metadata": {},
   "outputs": [
    {
     "data": {
      "text/markdown": [
       "## GET routes"
      ],
      "text/plain": [
       "<IPython.core.display.Markdown object>"
      ]
     },
     "metadata": {},
     "output_type": "display_data"
    },
    {
     "name": "stdout",
     "output_type": "stream",
     "text": [
      "{\n",
      "    \"total\": 0,\n",
      "    \"list\": []\n",
      "}\n"
     ]
    },
    {
     "name": "stderr",
     "output_type": "stream",
     "text": [
      "/python/.envs/conda-fiwaredsc/lib/python3.11/site-packages/urllib3/connectionpool.py:1099: InsecureRequestWarning: Unverified HTTPS request is being made to host '10.104.23.105'. Adding certificate verification is strongly advised. See: https://urllib3.readthedocs.io/en/latest/advanced-usage.html#tls-warnings\n",
      "  warnings.warn(\n"
     ]
    },
    {
     "data": {
      "text/markdown": [
       "## DELETE route 00000000000000000188"
      ],
      "text/plain": [
       "<IPython.core.display.Markdown object>"
      ]
     },
     "metadata": {},
     "output_type": "display_data"
    },
    {
     "name": "stdout",
     "output_type": "stream",
     "text": [
      "{\n",
      "    \"message\": \"Key not found\"\n",
      "}\n"
     ]
    },
    {
     "name": "stderr",
     "output_type": "stream",
     "text": [
      "/python/.envs/conda-fiwaredsc/lib/python3.11/site-packages/urllib3/connectionpool.py:1099: InsecureRequestWarning: Unverified HTTPS request is being made to host '10.104.23.105'. Adding certificate verification is strongly advised. See: https://urllib3.readthedocs.io/en/latest/advanced-usage.html#tls-warnings\n",
      "  warnings.warn(\n"
     ]
    }
   ],
   "source": [
    "getRoutes(verbose=True)\n",
    "# createOrUpdateRoute(ROUTE_DEMO_JSON)\n",
    "# deleteRoute(\"00000000000000000188\")\n"
   ]
  }
 ],
 "metadata": {
  "kernelspec": {
   "display_name": "Python 3",
   "language": "python",
   "name": "python3"
  },
  "language_info": {
   "codemirror_mode": {
    "name": "ipython",
    "version": 3
   },
   "file_extension": ".py",
   "mimetype": "text/x-python",
   "name": "python",
   "nbconvert_exporter": "python",
   "pygments_lexer": "ipython3",
   "version": "3.11.5"
  }
 },
 "nbformat": 4,
 "nbformat_minor": 2
}
